{
 "metadata": {
  "name": "",
  "signature": "sha256:6e0336089a3bd2a72b57b09c7026e55839eb0a6c5ad1a891ce2d5d3f6d6ded55"
 },
 "nbformat": 3,
 "nbformat_minor": 0,
 "worksheets": [
  {
   "cells": [
    {
     "cell_type": "code",
     "collapsed": false,
     "input": [
      "import numpy as np\n",
      "import astropy\n",
      "import scipy\n",
      "import matplotlib.pyplot as plt\n",
      "import pyfits\n",
      "import itertools\n",
      "from astropy.stats import sigma_clip\n",
      "import pylab as pl\n",
      "import os\n",
      "import sys\n",
      "import photutils\n",
      "from scipy import stats\n",
      "from scipy import interpolate\n",
      "from scipy.interpolate import interp1d\n",
      "from scipy.interpolate import UnivariateSpline\n",
      "from scipy.misc import imread, imsave\n",
      "from astropy.convolution import Gaussian1DKernel\n",
      "from astropy.convolution import Gaussian2DKernel\n",
      "from astropy.convolution import convolve, convolve_fft\n",
      "from scipy import signal\n",
      "from photutils import aperture_photometry\n",
      "from photutils import CircularAperture\n",
      "from astropy.coordinates import SkyCoord\n",
      "from photutils import SkyCircularAperture\n",
      "from string import whitespace\n",
      "import smoothn"
     ],
     "language": "python",
     "metadata": {},
     "outputs": [],
     "prompt_number": 1
    },
    {
     "cell_type": "code",
     "collapsed": false,
     "input": [
      "def TwoD_flux(filename,z,point):\n",
      "    \n",
      "    fileplace='/Users/andreavang/Documents/UW-Courses/Second_Year/Spring_2015/Research/3dhst/Data/Grism_Data/cosmos-wfc3-spectra_v4.1.4/'\n",
      "    file1D=fileplace+'cosmos-'+str(point)+'/1D/FITS/'+filename+'.1D.fits'\n",
      "    file2D=fileplace+'cosmos-'+str(point)+'/2D/FITS/'+filename+'.2D.fits'\n",
      "    fileZFIT=fileplace+'cosmos-'+str(point)+'/ZFIT/FITS/'+filename+'.new_zfit.fits'\n",
      "    \n",
      "    # Reading in the 5th,6th,8th, 9th, and 10th Extension\n",
      "    hdulist1=pyfits.open(file2D)\n",
      "    phot_dat=hdulist1[1].data\n",
      "    grm_dat=hdulist1[5].data\n",
      "    weight_dat=hdulist1[6].data\n",
      "    wave_dat=hdulist1[9].data\n",
      "    contam_dat=hdulist1[8].data\n",
      "    sens_dat=hdulist1[10].data\n",
      "    dlambda=hdulist1[9].header['CDELT1']\n",
      "    wht=hdulist1['WHT'].data\n",
      "    \n",
      "    \n",
      "    # Reading in the continuum fits file from the ZFIT\n",
      "    hdulist2=pyfits.open(fileZFIT)\n",
      "    contin2D=hdulist2[1].data\n",
      "    \n",
      "    #### Reading in the 3DHST Catalogue File\n",
      "\n",
      "    cat_fileplace='/Users/andreavang/Documents/UW-Courses/Second_Year/Spring_2015/Research/3dhst/Data'\n",
      "    cat_filename=cat_fileplace+'/3dhst.v4.1.4.full.v1.fits'\n",
      "\n",
      "    # The data table and the header table of the 3DHST Catalogue Fits file\n",
      "    datcat_table, headcat_table =pyfits.getdata(cat_filename, 1, header=True)\n",
      "\n",
      "\n",
      "    spec_id=datcat_table['spec_id'].tolist()\n",
      "    cat_kron_rad=datcat_table['kron_radius']\n",
      "    cat_haflux=datcat_table['HALPHA_FLUX']\n",
      "\n",
      "    ### Finding the kron radius and flux for the object in the catalogue\n",
      "    hst_index=spec_id.index(filename)\n",
      "    hst_kron_rad=cat_kron_rad[hst_index]\n",
      "    hst_haflux=cat_haflux[hst_index]\n",
      "\n",
      "    ### Reading in HiZEL-matched data\n",
      "    hiz_mfilepalce='/Users/andreavang/Documents/UW-Courses/Second_Year/Spring_2015/Research/3dhst/Matched_HiZEL_3DHST_Data/'\n",
      "    hiz_mcat01='HiZELs_3DHST_z_084.fits'\n",
      "    hiz_mcat02='HiZELs_3DHST_z_174.fits'\n",
      "    hiz_mfilename=hiz_mfilepalce+hiz_mcat01\n",
      "\n",
      "    # The data table and the header table of the Hizel-matched Fits file\n",
      "    dathiz_table, headhiz_table =pyfits.getdata(hiz_mfilename, 1, header=True)\n",
      "\n",
      "\n",
      "    hiz_spec_id=[]\n",
      "\n",
      "    for i in range(0,len(dathiz_table['spec_id'])):\n",
      "        hiz_spec_id.append(dathiz_table['spec_id'].tolist()[i].translate(None, whitespace))\n",
      "    \n",
      "\n",
      "    hiz_haflux=(10**dathiz_table['logFlux'])/10**-17\n",
      "\n",
      "    ### Finding the HiZEL flux for the object in the catalogue\n",
      "    hiz_index=hiz_spec_id.index(filename)\n",
      "    hiz_haflux=hiz_haflux[hiz_index]\n",
      "    \n",
      "    ### At rest wavelength\n",
      "\n",
      "    rest_wave=wave_dat/(1+z)\n",
      "\n",
      "    #### Reducing the science data\n",
      "    sci_clean=grm_dat-contam_dat-contin2D\n",
      "\n",
      "    #### Converting Flux from Counts to CGS Units\n",
      "    \n",
      "    cgs_flux=((sci_clean*dlambda)/(sens_dat*4))\n",
      "\n",
      "    ok_pix_flux=[]\n",
      "\n",
      "    for i in range(0,len(wht)):\n",
      "        ok_pix=[]\n",
      "        for q in range(0,len(wht[0])):\n",
      "            if 0<wht[i][q]<100:\n",
      "                ok_pix.append(cgs_flux[i][q])\n",
      "            else:\n",
      "                ok_pix.append(0.0)\n",
      "        ok_pix_flux.append(ok_pix)\n",
      "            \n",
      "    cgs_flux=np.array(ok_pix_flux)  \n",
      "    \n",
      "    \n",
      "    #### Expanding the image\n",
      "\n",
      "    ## Creating Arrays of 0\n",
      "\n",
      "    zero_arr=np.array([0]*len(cgs_flux[0]))\n",
      "    empty_arr=[]\n",
      "    for i in range(0,16):\n",
      "        empty_arr.append(zero_arr)\n",
      "    empty_arr=np.array(empty_arr)\n",
      "\n",
      "    first_cont_arr= concatenate((empty_arr,cgs_flux),axis=0)\n",
      "    tot_cont_arr=concatenate((first_cont_arr,empty_arr),axis=0)\n",
      "\n",
      "    ## Creating the 2D Gaussian PSF\n",
      "    platescale=0.06 # arcseconds per pixel\n",
      "    #FWHM=(0.9)/platescale # in units of pixels\n",
      "    FWHM=(0.9/0.7)/platescale # in units of pixels\n",
      "    gauss_sigma=FWHM/2.355\n",
      "\n",
      "    gaussian_2D_kernel = Gaussian2DKernel(gauss_sigma)\n",
      "\n",
      "    ### Convolution of the the PSF and the Ha Map\n",
      "    result = convolve_fft(tot_cont_arr, gaussian_2D_kernel,boundary='fill',fill_value=0.0,normalize_kernel=True)\n",
      "\n",
      "    ### Aperture Circle Plot\n",
      "    aperture_size=2.0 #Diameter of HiZELs 9units of arcseconds)\n",
      "    hiz_ap_rad=(aperture_size/platescale)/2.\n",
      "\n",
      "    ## Interpolation of x-y coordinates\n",
      "    x= range(0,len(rest_wave),1)\n",
      "    t = interp1d(rest_wave,x)\n",
      "\n",
      "    x_cent=t(6563.) # Centered at Ha line\n",
      "    y_cent=15.+len(empty_arr)\n",
      "\n",
      "    positions = [(x_cent,y_cent)]\n",
      "    apertures = CircularAperture(positions, r=3.5*hst_kron_rad)\n",
      "    phot_table_3dhst = aperture_photometry(tot_cont_arr, apertures)\n",
      "    mhst_flux=phot_table_3dhst[0][0]\n",
      "\n",
      " \n",
      "    print 'The 3D-HST 2D aperture flux is '+np.str(np.around(mhst_flux,decimals=2))+'e-17.'\n",
      "    print 'The ratio is '+np.str(np.round(mhst_flux/hst_haflux,2))+'.'\n",
      "    print\n",
      "\n",
      "    ## HiZEL Simulated Flux in DN\n",
      "\n",
      "    positions = [(x_cent,y_cent)]\n",
      "    apertures = CircularAperture(positions, r=hiz_ap_rad)\n",
      "    phot_table_hiz = aperture_photometry(result, apertures)\n",
      "    mhzl_flux=phot_table_hiz[0][0]\n",
      "\n",
      "\n",
      "    print 'The HiZELS 2D aperture flux is '+np.str(np.around(mhzl_flux,decimals=2))+'e-17.'\n",
      "    print 'The ratio is '+np.str(np.round(mhzl_flux/hiz_haflux,2))+'.'\n",
      "    print\n",
      "    \n",
      "    \n",
      "    return [mhzl_flux,mhst_flux,hiz_haflux,hst_haflux]\n",
      "\n"
     ],
     "language": "python",
     "metadata": {},
     "outputs": [],
     "prompt_number": 17
    },
    {
     "cell_type": "code",
     "collapsed": false,
     "input": [
      "filename='cosmos-28-G141_23070';z=0.838; point=28\n",
      "TwoD_flux(filename,z,point)"
     ],
     "language": "python",
     "metadata": {},
     "outputs": [
      {
       "output_type": "stream",
       "stream": "stdout",
       "text": [
        "The 3D-HST 2D aperture flux is 87.26e-17.\n",
        "The ratio is 1.05.\n",
        "\n",
        "The HiZELS 2D aperture flux is 68.19e-17.\n",
        "The ratio is 1.1.\n",
        "\n"
       ]
      },
      {
       "metadata": {},
       "output_type": "pyout",
       "prompt_number": 18,
       "text": [
        "[68.187983556174458, 87.262016465379475, 62.22998, 82.940002]"
       ]
      }
     ],
     "prompt_number": 18
    },
    {
     "cell_type": "code",
     "collapsed": false,
     "input": [
      "name=[['cosmos-28-G141_23070',0.838,28],['cosmos-02-G141_04752',0.847,str(2).zfill(2)],\n",
      "      ['cosmos-02-G141_02800',0.843,str(2).zfill(2)],['cosmos-04-G141_11525',0.846,str(4).zfill(2)],\n",
      "    ['cosmos-12-G141_08576',0.83217,12],['cosmos-28-G141_23019',0.83217,28],['cosmos-11-G141_27820',0.83308,11],\n",
      "    ['cosmos-20-G141_14132',0.834,20],['cosmos-02-G141_03882',0.84596,str(2).zfill(2)],['cosmos-23-G141_11986',0.84781,23],\n",
      "    ['cosmos-21-G141_06198',0.84873,21]]      \n"
     ],
     "language": "python",
     "metadata": {},
     "outputs": [],
     "prompt_number": 12
    },
    {
     "cell_type": "code",
     "collapsed": false,
     "input": [
      "mflux_hzl=[]\n",
      "mflux_hst=[]\n",
      "\n",
      "hzl_flux=[]\n",
      "hst_flux=[]\n",
      "\n",
      "for i in range(0,len(name)):\n",
      "    cosmo_arr=TwoD_flux(name[i][0],name[i][1],name[i][2])\n",
      "    mflux_hzl.append(cosmo_arr[0])\n",
      "    mflux_hst.append(cosmo_arr[1])\n",
      "    hzl_flux.append(cosmo_arr[2])\n",
      "    hst_flux.append(cosmo_arr[3])\n",
      "\n",
      "mflux_hzl=np.array(mflux_hzl)\n",
      "mflux_hst=np.array(mflux_hst)\n",
      "\n",
      "hzl_flux=np.array(hzl_flux)\n",
      "hst_flux=np.array(hst_flux)"
     ],
     "language": "python",
     "metadata": {},
     "outputs": [
      {
       "output_type": "stream",
       "stream": "stdout",
       "text": [
        "The 3D-HST 2D aperture flux is 87.26e-17.\n",
        "The ratio is 1.05.\n",
        "\n",
        "The HiZELS 2D aperture flux is 68.19e-17.\n",
        "The ratio is 1.1.\n",
        "\n",
        "The 3D-HST 2D aperture flux is 8.72e-17."
       ]
      },
      {
       "output_type": "stream",
       "stream": "stdout",
       "text": [
        "\n",
        "The ratio is 0.66.\n",
        "\n",
        "The HiZELS 2D aperture flux is 4.24e-17.\n",
        "The ratio is 0.57.\n",
        "\n",
        "The 3D-HST 2D aperture flux is 36.27e-17."
       ]
      },
      {
       "output_type": "stream",
       "stream": "stdout",
       "text": [
        "\n",
        "The ratio is 0.89.\n",
        "\n",
        "The HiZELS 2D aperture flux is 36.19e-17.\n",
        "The ratio is 1.46.\n",
        "\n",
        "The 3D-HST 2D aperture flux is 14.35e-17."
       ]
      },
      {
       "output_type": "stream",
       "stream": "stdout",
       "text": [
        "\n",
        "The ratio is 0.77.\n",
        "\n",
        "The HiZELS 2D aperture flux is 14.1e-17.\n",
        "The ratio is 1.89.\n",
        "\n",
        "The 3D-HST 2D aperture flux is -3.96e-17."
       ]
      },
      {
       "output_type": "stream",
       "stream": "stdout",
       "text": [
        "\n",
        "The ratio is -4.78.\n",
        "\n",
        "The HiZELS 2D aperture flux is -3.72e-17.\n",
        "The ratio is -0.46.\n",
        "\n",
        "The 3D-HST 2D aperture flux is 20.54e-17."
       ]
      },
      {
       "output_type": "stream",
       "stream": "stdout",
       "text": [
        "\n",
        "The ratio is 0.97.\n",
        "\n",
        "The HiZELS 2D aperture flux is 19.63e-17.\n",
        "The ratio is 1.91.\n",
        "\n",
        "The 3D-HST 2D aperture flux is 13.26e-17."
       ]
      },
      {
       "output_type": "stream",
       "stream": "stdout",
       "text": [
        "\n",
        "The ratio is 1.38.\n",
        "\n",
        "The HiZELS 2D aperture flux is 8.5e-17.\n",
        "The ratio is 1.21.\n",
        "\n",
        "The 3D-HST 2D aperture flux is 8.31e-17."
       ]
      },
      {
       "output_type": "stream",
       "stream": "stdout",
       "text": [
        "\n",
        "The ratio is 0.79.\n",
        "\n",
        "The HiZELS 2D aperture flux is 9.25e-17.\n",
        "The ratio is 0.82.\n",
        "\n",
        "The 3D-HST 2D aperture flux is 22.64e-17."
       ]
      },
      {
       "output_type": "stream",
       "stream": "stdout",
       "text": [
        "\n",
        "The ratio is 3.52.\n",
        "\n",
        "The HiZELS 2D aperture flux is 19.22e-17.\n",
        "The ratio is 2.8.\n",
        "\n",
        "The 3D-HST 2D aperture flux is 14.04e-17."
       ]
      },
      {
       "output_type": "stream",
       "stream": "stdout",
       "text": [
        "\n",
        "The ratio is 0.89.\n",
        "\n",
        "The HiZELS 2D aperture flux is 13.88e-17.\n",
        "The ratio is 1.38.\n",
        "\n",
        "The 3D-HST 2D aperture flux is 16.42e-17."
       ]
      },
      {
       "output_type": "stream",
       "stream": "stdout",
       "text": [
        "\n",
        "The ratio is 1.41.\n",
        "\n",
        "The HiZELS 2D aperture flux is 14.63e-17.\n",
        "The ratio is 1.23.\n",
        "\n"
       ]
      }
     ],
     "prompt_number": 13
    },
    {
     "cell_type": "code",
     "collapsed": false,
     "input": [
      "hst_cat=[]\n",
      "hst_sim=[]\n",
      "hzl_cat=[]\n",
      "hzl_sim=[]\n",
      "\n",
      "for i in range(0,len(hst_flux)):\n",
      "    if mflux_hst[i]<0 or mflux_hzl[i]<0:\n",
      "        pass\n",
      "    else:\n",
      "        hst_cat.append(hst_flux[i])\n",
      "        hst_sim.append(mflux_hst[i])\n",
      "        \n",
      "        hzl_cat.append(hzl_flux[i])\n",
      "        hzl_sim.append(mflux_hzl[i])\n",
      "        \n",
      "h= np.poly1d(np.polyfit(hst_cat, hst_sim, 1))\n",
      "p= np.poly1d(np.polyfit(hzl_cat, hzl_sim, 1))\n",
      "\n",
      "plt.figure(figsize = (10,10))\n",
      "x1,x2,y1,y2=6000,7500,0.0,1.8\n",
      "\n",
      "plt.plot(hst_cat,hst_sim,'ro',label='3D-HST')\n",
      "plt.plot(hst_cat,h(hst_cat),'r-',label='Slope='+str(round(h[1],2)))\n",
      "\n",
      "plt.plot(hzl_cat,hzl_sim,'ko',label='HiZELs')\n",
      "plt.plot(hzl_cat,p(hzl_cat),'k-',label='Slope='+str(round(p[1],2)))\n",
      "\n",
      "#plt.axis([x1,x2,y1,y2])\n",
      "plt.xlabel('Observed Flux',fontsize=15)\n",
      "plt.ylabel('Simulated Flux',fontsize=15)\n",
      "plt.title('3D-HST vs. HiZEL Survey ',fontsize=20)\n",
      "plt.legend(loc='upper left',prop={'size':14},frameon=True)\n",
      "\n",
      "plt.show()"
     ],
     "language": "python",
     "metadata": {},
     "outputs": [
      {
       "metadata": {},
       "output_type": "display_data",
       "png": "[encoded data removed]",
       "text": [
        "<matplotlib.figure.Figure at 0x10b399850>"
       ]
      }
     ],
     "prompt_number": 14
    },
    {
     "cell_type": "code",
     "collapsed": false,
     "input": [],
     "language": "python",
     "metadata": {},
     "outputs": []
    }
   ],
   "metadata": {}
  }
 ]
}